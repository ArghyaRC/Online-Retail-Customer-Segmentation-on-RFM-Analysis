{
  "nbformat": 4,
  "nbformat_minor": 0,
  "metadata": {
    "colab": {
      "provenance": [],
      "toc_visible": true
    },
    "kernelspec": {
      "name": "python3",
      "display_name": "Python 3"
    },
    "language_info": {
      "name": "python"
    }
  },
  "cells": [
    {
      "cell_type": "code",
      "execution_count": 6,
      "metadata": {
        "id": "XwE1NuEx_lQ7"
      },
      "outputs": [],
      "source": [
        "import pandas as pd\n",
        "import numpy as np\n",
        "import matplotlib.pyplot as plt\n",
        "import seaborn as sns\n",
        "\n",
        "sns.set_style('ticks')\n",
        "plt.rcParams[\"figure.figsize\"] = (10,8)\n",
        "\n",
        "import warnings\n",
        "warnings.filterwarnings(\"ignore\")"
      ]
    },
    {
      "cell_type": "code",
      "source": [
        "def target_check(df, target):\n",
        "    \"\"\"Return the value counts and a horizontal barplot of target class.\n",
        "\n",
        "    Args:\n",
        "    df (dataframe): the raw dataframe with the target\n",
        "    target (string): the target column\n",
        "    \"\"\"\n",
        "\n",
        "    plt.figure(figsize=(18,6))\n",
        "    df[target].value_counts().plot(kind=\"barh\")\n",
        "    plt.xlabel(\"Count\")\n",
        "    plt.ylabel(\"Class\")\n",
        "    plt.title(\"Count of Target Variable\")"
      ],
      "metadata": {
        "id": "2ZVZb-6P_7Be"
      },
      "execution_count": 7,
      "outputs": []
    },
    {
      "cell_type": "code",
      "source": [
        "def df_summary(df):\n",
        "    \"\"\"input the dataframe, and it will return a summary table with columns datails.\n",
        "    which include\n",
        "\n",
        "    Args:\n",
        "    df (dataframe): the raw dataframe with the target\n",
        "\n",
        "    Returns:\n",
        "    [dataframe]: summary table with columns datails\n",
        "    \"\"\"\n",
        "    #create a dataframe call summary\n",
        "    summary = pd.DataFrame(df.dtypes, columns=['dtype'])\n",
        "\n",
        "    # Number of Missing values (-1 count)\n",
        "    summary['num_missing'] = df.isna().sum().values\n",
        "\n",
        "    # Number of unique values by features\n",
        "    summary['num_uniques'] = df.nunique().values\n",
        "\n",
        "    return summary"
      ],
      "metadata": {
        "id": "-cvP16yH_-Np"
      },
      "execution_count": 8,
      "outputs": []
    },
    {
      "cell_type": "code",
      "source": [
        "def dist_box_violin(data):\n",
        "    \"\"\" function plots a combined graph for univariate analysis of continous variable\n",
        "    to check spread, central tendency , dispersion and outliers\n",
        "\n",
        "    Args:\n",
        "    data (data.series): the float/int columns you would like to check\n",
        "    \"\"\"\n",
        "    Name = data.name.upper()\n",
        "    fig, axes =plt.subplots(1,3,figsize=(16,6))\n",
        "    fig.suptitle(f\"SPREAD OF DATA FOR {Name}\"  , fontsize=14, fontweight='bold')\n",
        "\n",
        "    sns.distplot(data,kde=False,color='Blue',ax=axes[0])\n",
        "    axes[0].axvline(data.mean(), color='y', linestyle='--',linewidth=2)\n",
        "    axes[0].axvline(data.median(), color='r', linestyle='dashed', linewidth=2)\n",
        "    axes[0].axvline(data.mode()[0],color='g',linestyle='solid',linewidth=2)\n",
        "    axes[0].legend({'Mean':data.mean(),'Median':data.median(),'Mode':data.mode()})\n",
        "\n",
        "    sns.boxplot(x=data,showmeans=True, orient='h',color=\"purple\",ax=axes[1])\n",
        "\n",
        "    sns.violinplot(data,ax=axes[2],showmeans=True)"
      ],
      "metadata": {
        "id": "7EnSHaTuACMN"
      },
      "execution_count": 9,
      "outputs": []
    },
    {
      "cell_type": "code",
      "source": [
        "def uni_plot(data,target):\n",
        "    \"\"\"function plots a combind distribution of class.\n",
        "\n",
        "    Args:\n",
        "    data (data.series): the columns you would like to check\n",
        "    target (data.series): the columns you would like to check\n",
        "    \"\"\"\n",
        "    Name = data.name.upper()\n",
        "    fig, axes =plt.subplots(1,2,figsize=(16,6))\n",
        "    fig.suptitle(f\"DISTRIBUTION OF {Name}\"  , fontsize=14, fontweight='bold')\n",
        "\n",
        "\n",
        "    sns.countplot(x = data, ax = axes[0])\n",
        "    sns.countplot(x = data, ax = axes[1], hue = target)"
      ],
      "metadata": {
        "id": "oELqGf-6AFjZ"
      },
      "execution_count": 10,
      "outputs": []
    }
  ]
}